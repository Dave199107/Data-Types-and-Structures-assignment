{
  "nbformat": 4,
  "nbformat_minor": 0,
  "metadata": {
    "colab": {
      "provenance": []
    },
    "kernelspec": {
      "name": "python3",
      "display_name": "Python 3"
    },
    "language_info": {
      "name": "python"
    }
  },
  "cells": [
    {
      "cell_type": "markdown",
      "source": [
        "## **Data Types and Structures Questions**"
      ],
      "metadata": {
        "id": "a6jJRYtjSmt3"
      }
    },
    {
      "cell_type": "markdown",
      "source": [
        "**1.What are data structures, and why are they important?**\n",
        "\n",
        "Data structures organize and store data efficiently.\n",
        "\n",
        "They optimize operations like access, insertion, and deletion.\n",
        "\n",
        "**2. Difference between mutable and immutable types with examples:**\n",
        "\n",
        "Mutable: Can be modified (e.g., list, dict, set).\n",
        "\n",
        "Immutable: Cannot be changed (e.g., int, str, tuple).\n",
        "\n",
        "**3. Lists vs. Tuples:**\n",
        "\n",
        "List: Mutable, uses [ ].\n",
        "\n",
        "Tuple: Immutable, uses ().\n",
        "\n",
        "**4. How dictionaries store data:**\n",
        "\n",
        "As key-value pairs (keys must be immutable).\n",
        "\n",
        "**5. Use a set instead of a list when:**\n",
        "\n",
        "You need unique elements or fast membership checks.\n",
        "\n",
        "**6. String vs. List:**\n",
        "\n",
        "String: Immutable sequence of characters.\n",
        "\n",
        "List: Mutable, can hold any data type.\n",
        "\n",
        "**7. Tuples ensure data integrity because:**\n",
        "\n",
        "They are immutable, preventing accidental changes.\n",
        "\n",
        "**8. Hash table & dictionaries:**\n",
        "\n",
        "Python dictionaries use hash tables for O(1) average lookups.\n",
        "\n",
        "**9. Can lists contain different data types?**\n",
        "\n",
        "Yes, e.g., [1, \"hello\", 3.14].\n",
        "\n",
        "**10. Why strings are immutable:**\n",
        "\n",
        "Ensures safety in hashing (e.g., for dictionary keys).\n",
        "\n",
        "**11. Dictionaries vs. Lists:**\n",
        "\n",
        "Dictionaries offer faster lookups by key (O(1) vs. O(n) for lists).\n",
        "\n",
        "**12. When to use a tuple over a list:**\n",
        "\n",
        "For fixed data (e.g., coordinates, database records).\n",
        "\n",
        "**13. Sets and duplicates:**\n",
        "\n",
        "Automatically remove duplicates (e.g., {1, 2, 2} becomes {1, 2}).\n",
        "\n",
        "**14. \"in\" keyword in lists vs. dictionaries:**\n",
        "\n",
        "**Lists:** Checks values (O(n) time).\n",
        "\n",
        "**Dictionaries:** Checks keys (O(1) avg time).\n",
        "\n",
        "**15. Can you modify tuple elements?**\n",
        "\n",
        "No, tuples are immutable (but can contain mutable objects like lists).\n",
        "\n",
        "**16. Nested dictionary example:**\n",
        "\n",
        "python\n",
        "employee = {\"name\": \"Alice\", \"skills\": {\"Python\": 5, \"SQL\": 4}}  \n",
        "Used for hierarchical data (e.g., JSON-like structures).\n",
        "\n",
        "**17. Dictionary access time complexity:**\n",
        "\n",
        "O(1) average case (due to hashing).\n",
        "\n",
        "**18. When to prefer lists over dictionaries:**\n",
        "\n",
        "When order matters or you need index-based access.\n",
        "\n",
        "**19. Dictionaries are unordered (pre-Python 3.7):**\n",
        "\n",
        "Insertion order wasn’t preserved (now it is, but still optimized for hashing).\n",
        "\n",
        "**20. List vs. Dictionary retrieval:**\n",
        "\n",
        "List: Access by index (O(1)).\n",
        "\n",
        "Dictionary: Access by key (O(1) avg)."
      ],
      "metadata": {
        "id": "yGpq6Wz6SqXB"
      }
    },
    {
      "cell_type": "markdown",
      "source": [
        "# **Practical Questions**"
      ],
      "metadata": {
        "id": "EO2p-1KqXW6c"
      }
    },
    {
      "cell_type": "markdown",
      "source": [
        "1. Create and print a string with your name"
      ],
      "metadata": {
        "id": "ENXn4DoIZgF-"
      }
    },
    {
      "cell_type": "code",
      "source": [
        "name = \"dev\"\n",
        "print(name)\n",
        "\n"
      ],
      "metadata": {
        "colab": {
          "base_uri": "https://localhost:8080/"
        },
        "id": "4NtmqgNmZIlT",
        "outputId": "df42d44a-ec9a-42e9-b84a-f67429611564"
      },
      "execution_count": null,
      "outputs": [
        {
          "output_type": "stream",
          "name": "stdout",
          "text": [
            "dev\n"
          ]
        }
      ]
    },
    {
      "cell_type": "markdown",
      "source": [
        "2. Find the length of \"Hello World\""
      ],
      "metadata": {
        "id": "lxJ8dXGJZpsJ"
      }
    },
    {
      "cell_type": "code",
      "source": [
        "print(len(\"Hello World\"))"
      ],
      "metadata": {
        "colab": {
          "base_uri": "https://localhost:8080/"
        },
        "id": "oWV0OQ1gZSPU",
        "outputId": "2ea3d941-3fe8-4e2f-e797-993171efd667"
      },
      "execution_count": null,
      "outputs": [
        {
          "output_type": "stream",
          "name": "stdout",
          "text": [
            "11\n"
          ]
        }
      ]
    },
    {
      "cell_type": "markdown",
      "source": [
        "3. Slice first 3 characters from \"Python Programming\""
      ],
      "metadata": {
        "id": "RnrpB7eiZ1Xa"
      }
    },
    {
      "cell_type": "code",
      "source": [
        "text = \"Python Programming\"\n",
        "print(text[:3])"
      ],
      "metadata": {
        "id": "bFgvznPoZSZb"
      },
      "execution_count": null,
      "outputs": []
    },
    {
      "cell_type": "markdown",
      "source": [
        "4. Convert \"hello\" to uppercase"
      ],
      "metadata": {
        "id": "ust0gMCsaA7r"
      }
    },
    {
      "cell_type": "code",
      "source": [
        "print(\"hello\".upper())"
      ],
      "metadata": {
        "id": "7cio0dLTZSe6"
      },
      "execution_count": null,
      "outputs": []
    },
    {
      "cell_type": "markdown",
      "source": [
        "5. Replace \"apple\" with \"orange\" in \"I like apple\""
      ],
      "metadata": {
        "id": "iXmBvk0OaP5f"
      }
    },
    {
      "cell_type": "code",
      "source": [
        "text = \"I like apple\"\n",
        "print(text.replace(\"apple\", \"orange\"))"
      ],
      "metadata": {
        "id": "Gwrep175ZSm0"
      },
      "execution_count": null,
      "outputs": []
    },
    {
      "cell_type": "markdown",
      "source": [
        "6. Create a list with numbers 1 to 5 and print it"
      ],
      "metadata": {
        "id": "K_0NlJkeabgu"
      }
    },
    {
      "cell_type": "code",
      "source": [
        "numbers = [1, 2, 3, 4, 5]\n",
        "print(numbers)"
      ],
      "metadata": {
        "id": "_xE7Nf-jZSsb"
      },
      "execution_count": null,
      "outputs": []
    },
    {
      "cell_type": "markdown",
      "source": [
        "7. Append 10 to the list [1, 2, 3, 4]"
      ],
      "metadata": {
        "id": "Ziqspsfyak42"
      }
    },
    {
      "cell_type": "code",
      "source": [
        "nums = [1, 2, 3, 4]\n",
        "nums.append(10)\n",
        "print(nums)"
      ],
      "metadata": {
        "id": "RBAEE5yuZSy0"
      },
      "execution_count": null,
      "outputs": []
    },
    {
      "cell_type": "markdown",
      "source": [
        "8. Remove the number 3 from [1, 2, 3, 4, 5]"
      ],
      "metadata": {
        "id": "COQQ4uhAavmU"
      }
    },
    {
      "cell_type": "code",
      "source": [
        "nums = [1, 2, 3, 4, 5]\n",
        "nums.remove(3)\n",
        "print(nums)"
      ],
      "metadata": {
        "id": "KOJQ5LoEZS3o"
      },
      "execution_count": null,
      "outputs": []
    },
    {
      "cell_type": "markdown",
      "source": [
        "9. Access the second element in ['a', 'b', 'c', 'd']"
      ],
      "metadata": {
        "id": "9wK2N7aWa69-"
      }
    },
    {
      "cell_type": "code",
      "source": [
        "letters = ['a', 'b', 'c', 'd']\n",
        "print(letters[1])"
      ],
      "metadata": {
        "id": "CsIQnjxiZS76"
      },
      "execution_count": null,
      "outputs": []
    },
    {
      "cell_type": "markdown",
      "source": [
        "10. Reverse the list [10, 20, 30, 40, 50]"
      ],
      "metadata": {
        "id": "y31I0r4lbVUe"
      }
    },
    {
      "cell_type": "code",
      "source": [
        "nums = [10, 20, 30, 40, 50]\n",
        "nums.reverse()\n",
        "print(nums)"
      ],
      "metadata": {
        "id": "iM2nuvuGZTAp"
      },
      "execution_count": null,
      "outputs": []
    },
    {
      "cell_type": "markdown",
      "source": [
        "11. Create a tuple with 100, 200, 300 and print it"
      ],
      "metadata": {
        "id": "OdAcqkhIbgYo"
      }
    },
    {
      "cell_type": "code",
      "source": [
        "tup = (100, 200, 300)\n",
        "print(tup)"
      ],
      "metadata": {
        "id": "zQQ9XzTAZTE6"
      },
      "execution_count": null,
      "outputs": []
    },
    {
      "cell_type": "markdown",
      "source": [
        "12. Access the second-to-last element of ('red', 'green', 'blue', 'yellow')"
      ],
      "metadata": {
        "id": "WSXWuDJrbnu_"
      }
    },
    {
      "cell_type": "code",
      "source": [
        "colors = ('red', 'green', 'blue', 'yellow')\n",
        "print(colors[-2])"
      ],
      "metadata": {
        "id": "o5eHgmlQZTJQ"
      },
      "execution_count": null,
      "outputs": []
    },
    {
      "cell_type": "markdown",
      "source": [
        "13. Find the minimum number in (10, 20, 5, 15)"
      ],
      "metadata": {
        "id": "ZL0faRWbbzci"
      }
    },
    {
      "cell_type": "code",
      "source": [
        "nums = (10, 20, 5, 15)\n",
        "print(min(nums))"
      ],
      "metadata": {
        "id": "VUEQlI10ZTN6"
      },
      "execution_count": null,
      "outputs": []
    },
    {
      "cell_type": "markdown",
      "source": [
        "14. Find the index of \"cat\" in ('dog', 'cat', 'rabbit')"
      ],
      "metadata": {
        "id": "tMnl22gFb-AV"
      }
    },
    {
      "cell_type": "code",
      "source": [
        "animals = ('dog', 'cat', 'rabbit')\n",
        "print(animals.index('cat'))"
      ],
      "metadata": {
        "id": "MpcljIUSZTRr"
      },
      "execution_count": null,
      "outputs": []
    },
    {
      "cell_type": "markdown",
      "source": [
        "15. Check if \"kiwi\" is in a fruit tuple"
      ],
      "metadata": {
        "id": "L_6iCnV3cG0j"
      }
    },
    {
      "cell_type": "code",
      "source": [
        "fruits = ('apple', 'banana', 'orange')\n",
        "print('kiwi' in fruits)"
      ],
      "metadata": {
        "id": "fH6G5ZTAZTV_"
      },
      "execution_count": null,
      "outputs": []
    },
    {
      "cell_type": "markdown",
      "source": [
        "16. Create a set with 'a', 'b', 'c' and print it"
      ],
      "metadata": {
        "id": "-gYR2paxcOo2"
      }
    },
    {
      "cell_type": "code",
      "source": [
        "my_set = {'a', 'b', 'c'}\n",
        "print(my_set)"
      ],
      "metadata": {
        "colab": {
          "base_uri": "https://localhost:8080/"
        },
        "id": "0Jb_7xUtZTZ5",
        "outputId": "65bab369-8ea7-4f80-fdbb-536d861ec3bc"
      },
      "execution_count": null,
      "outputs": [
        {
          "output_type": "stream",
          "name": "stdout",
          "text": [
            "{'c', 'b', 'a'}\n"
          ]
        }
      ]
    },
    {
      "cell_type": "markdown",
      "source": [
        "17. Clear all elements from {1, 2, 3, 4, 5}"
      ],
      "metadata": {
        "id": "e5-LSEkndJtd"
      }
    },
    {
      "cell_type": "code",
      "source": [
        "nums = {1, 2, 3, 4, 5}\n",
        "nums.clear()\n",
        "print(nums)"
      ],
      "metadata": {
        "colab": {
          "base_uri": "https://localhost:8080/"
        },
        "id": "DrS1Fl_wZTeT",
        "outputId": "3e27b255-a639-4899-c336-cc56f2bb5c5d"
      },
      "execution_count": null,
      "outputs": [
        {
          "output_type": "stream",
          "name": "stdout",
          "text": [
            "set()\n"
          ]
        }
      ]
    },
    {
      "cell_type": "markdown",
      "source": [
        "18. Remove 4 from {1, 2, 3, 4}"
      ],
      "metadata": {
        "id": "KCqeQMwAdYd0"
      }
    },
    {
      "cell_type": "code",
      "source": [
        "nums = {1, 2, 3, 4}\n",
        "nums.remove(4)\n",
        "print(nums)"
      ],
      "metadata": {
        "id": "t9PKT4njZTiO"
      },
      "execution_count": null,
      "outputs": []
    },
    {
      "cell_type": "markdown",
      "source": [
        "19. Find the union of {1, 2, 3} and {3, 4, 5}"
      ],
      "metadata": {
        "id": "ETc8j0eVdjCB"
      }
    },
    {
      "cell_type": "code",
      "source": [
        "set1 = {1, 2, 3}\n",
        "set2 = {3, 4, 5}\n",
        "print(set1.union(set2))"
      ],
      "metadata": {
        "id": "NPUHbvNSZTnA"
      },
      "execution_count": null,
      "outputs": []
    },
    {
      "cell_type": "markdown",
      "source": [
        "20. Find the intersection of {1, 2, 3} and {2, 3, 4}"
      ],
      "metadata": {
        "id": "nFhaSbPydocd"
      }
    },
    {
      "cell_type": "code",
      "source": [
        "set1 = {1, 2, 3}\n",
        "set2 = {2, 3, 4}\n",
        "print(set1.intersection(set2))"
      ],
      "metadata": {
        "id": "ghvQnnbZZTrT"
      },
      "execution_count": null,
      "outputs": []
    },
    {
      "cell_type": "markdown",
      "source": [
        "21. Create a dictionary with 'name', 'age', 'city' and print it"
      ],
      "metadata": {
        "id": "7JXbXNwmdv_d"
      }
    },
    {
      "cell_type": "code",
      "source": [
        "person = {'name': 'John', 'age': 25, 'city': 'New York'}\n",
        "print(person)"
      ],
      "metadata": {
        "id": "GYccLDgiZUOH"
      },
      "execution_count": null,
      "outputs": []
    },
    {
      "cell_type": "markdown",
      "source": [
        "22. Add \"country\": \"USA\" to {'name': 'John', 'age': 25}"
      ],
      "metadata": {
        "id": "8AgRshlsd29f"
      }
    },
    {
      "cell_type": "code",
      "source": [
        "person = {'name': 'John', 'age': 25}\n",
        "person['country'] = 'USA'\n",
        "print(person)"
      ],
      "metadata": {
        "id": "iBQAhcyaZUSz"
      },
      "execution_count": null,
      "outputs": []
    },
    {
      "cell_type": "markdown",
      "source": [
        "23. Access the value for key \"name\" in {'name': 'Alice', 'age': 30}"
      ],
      "metadata": {
        "id": "rvpYtYXQeCCM"
      }
    },
    {
      "cell_type": "code",
      "source": [
        "person = {'name': 'Alice', 'age': 30}\n",
        "print(person['name'])"
      ],
      "metadata": {
        "id": "mdhVFYezZUWl"
      },
      "execution_count": null,
      "outputs": []
    },
    {
      "cell_type": "markdown",
      "source": [
        "24. Remove the key \"age\" from {'name': 'Bob', 'age': 22, 'city': 'New York'}"
      ],
      "metadata": {
        "id": "Xn7Y1sUHeLdj"
      }
    },
    {
      "cell_type": "code",
      "source": [
        "person = {'name': 'Bob', 'age': 22, 'city': 'New York'}\n",
        "del person['age']\n",
        "print(person)"
      ],
      "metadata": {
        "id": "XX8QUiWAZUc0",
        "colab": {
          "base_uri": "https://localhost:8080/"
        },
        "outputId": "b02fa70a-44fd-4064-bea5-e370808cb1e3"
      },
      "execution_count": null,
      "outputs": [
        {
          "output_type": "stream",
          "name": "stdout",
          "text": [
            "{'name': 'Bob', 'city': 'New York'}\n"
          ]
        }
      ]
    },
    {
      "cell_type": "markdown",
      "source": [
        "25. Check if 'city' exists in {'name': 'Alice', 'city': 'Paris'}"
      ],
      "metadata": {
        "id": "KBZ5TVkMeUWa"
      }
    },
    {
      "cell_type": "code",
      "source": [
        "person = {'name': 'Alice', 'city': 'Paris'}\n",
        "print('city' in person)"
      ],
      "metadata": {
        "id": "BofBhnD-ZUhh",
        "colab": {
          "base_uri": "https://localhost:8080/"
        },
        "outputId": "d37a9755-3a5c-4af3-88b0-3616020ae244"
      },
      "execution_count": null,
      "outputs": [
        {
          "output_type": "stream",
          "name": "stdout",
          "text": [
            "True\n"
          ]
        }
      ]
    },
    {
      "cell_type": "markdown",
      "source": [
        "26. Create a list, tuple, and dictionary, and print all"
      ],
      "metadata": {
        "id": "OFN9Ckcie5US"
      }
    },
    {
      "cell_type": "code",
      "source": [
        "my_list = [1, 2, 3]\n",
        "my_tuple = (4, 5, 6)\n",
        "my_dict = {'a': 1, 'b': 2}\n",
        "print(my_list, my_tuple, my_dict)"
      ],
      "metadata": {
        "id": "K6PmRDc1ZUl5",
        "colab": {
          "base_uri": "https://localhost:8080/"
        },
        "outputId": "f051befd-a314-4da4-f177-18b16941e059"
      },
      "execution_count": null,
      "outputs": [
        {
          "output_type": "stream",
          "name": "stdout",
          "text": [
            "[1, 2, 3] (4, 5, 6) {'a': 1, 'b': 2}\n"
          ]
        }
      ]
    },
    {
      "cell_type": "markdown",
      "source": [
        "27. Create a sorted list of 5 random numbers (1-100)"
      ],
      "metadata": {
        "id": "eq2FjIvMfhMS"
      }
    },
    {
      "cell_type": "code",
      "source": [
        "import random\n",
        "nums = random.sample(range(1, 101), 5)\n",
        "nums.sort()\n",
        "print(nums)"
      ],
      "metadata": {
        "id": "OjlOIPOUZUqD"
      },
      "execution_count": null,
      "outputs": []
    },
    {
      "cell_type": "code",
      "source": [],
      "metadata": {
        "id": "5iAGqo1IZUts"
      },
      "execution_count": null,
      "outputs": []
    },
    {
      "cell_type": "code",
      "source": [],
      "metadata": {
        "id": "jO_DfwRmZUyG"
      },
      "execution_count": null,
      "outputs": []
    },
    {
      "cell_type": "code",
      "source": [],
      "metadata": {
        "id": "YYCRu4t0ZU11"
      },
      "execution_count": null,
      "outputs": []
    }
  ]
}